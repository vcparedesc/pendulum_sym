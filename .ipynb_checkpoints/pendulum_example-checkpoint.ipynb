{
 "cells": [
  {
   "cell_type": "code",
   "execution_count": 1,
   "metadata": {
    "collapsed": true,
    "deletable": true,
    "editable": true
   },
   "outputs": [],
   "source": [
    "# Inverted Pendulum example"
   ]
  },
  {
   "cell_type": "code",
   "execution_count": 2,
   "metadata": {
    "collapsed": false,
    "deletable": true,
    "editable": true
   },
   "outputs": [],
   "source": [
    "from IPython.display import Image\n",
    "import sys \n",
    "import os\n",
    "sys.path.append(os.path.abspath(\"../PyroBot\"))\n",
    "from pyro_derivatives import *\n",
    "from pyro_dynamics import *\n",
    "init_printing(use_unicode=True)"
   ]
  },
  {
   "cell_type": "code",
   "execution_count": 3,
   "metadata": {
    "collapsed": false,
    "deletable": true,
    "editable": true
   },
   "outputs": [],
   "source": [
    "from sympy import *\n",
    "from sympy.physics.mechanics import *\n",
    "from sympy import symbols, atan, Matrix, solve\n",
    "from IPython.display import display_pretty, display_html, display_jpeg, display_png, display_json, display_latex, display_svg"
   ]
  },
  {
   "cell_type": "markdown",
   "metadata": {
    "collapsed": false,
    "deletable": true,
    "editable": true
   },
   "source": [
    "## Model\n",
    "![Pendulum Model](pendulum.png)"
   ]
  },
  {
   "cell_type": "code",
   "execution_count": 4,
   "metadata": {
    "collapsed": false,
    "deletable": true,
    "editable": true
   },
   "outputs": [],
   "source": [
    "# Declaring variables\n",
    "q1, q2 = dynamicsymbols('q1:3')\n",
    "t = symbols('t')\n",
    "M,l,m,I,g = symbols('M, l, m, I, g')\n",
    "parameters = [M,l,m,I,g]\n",
    "values = [1,1,1,1,1]\n",
    "# Renaming variables as generalized coordinates\n",
    "x = q1\n",
    "xd = diff(q1,t)\n",
    "theta = q2\n",
    "thetad = diff(q2,t)\n",
    "# Defining the elements of the lagrangian\n",
    "# L = T - V\n",
    "T = 0.5 * M * xd**2 + 0.5 * I * thetad**2 + 0.5*m*((xd+l*thetad*cos(theta))**2 + (l * thetad* sin(theta))**2)\n",
    "V =  -m * g * l * cos(theta)\n",
    "L = T - V\n",
    "# Applying the lagrange equation to get EOM\n",
    "Q = Matrix([q1, q2])\n",
    "EoM = lagrange_method(L,Q)"
   ]
  },
  {
   "cell_type": "code",
   "execution_count": 5,
   "metadata": {
    "collapsed": false,
    "deletable": true,
    "editable": true
   },
   "outputs": [],
   "source": [
    "Mat_M = get_matrix_M(EoM, Q)\n",
    "fx,gx = get_fx_gx(EoM,Q)"
   ]
  },
  {
   "cell_type": "code",
   "execution_count": 6,
   "metadata": {
    "collapsed": false
   },
   "outputs": [],
   "source": [
    "# Replacing tangent bundle (TQ) with state (X) \n",
    "x1,x2,xd1,xd2 = symbols('x1,x2,xd1,xd2') # q1,q2,q1d,q2d\n",
    "X = Matrix([x1,x2,xd1,xd2])\n",
    "TQ = Matrix([q1,q2,diff(q1),diff(q2)])\n",
    "f_x = change_vars(fx, TQ, X)\n",
    "g_x = change_vars(gx, TQ, X)\n"
   ]
  },
  {
   "cell_type": "code",
   "execution_count": 7,
   "metadata": {
    "collapsed": false
   },
   "outputs": [],
   "source": [
    "print_python_dynamics(f_x, g_x, X,parameters,values)"
   ]
  },
  {
   "cell_type": "code",
   "execution_count": null,
   "metadata": {
    "collapsed": true
   },
   "outputs": [],
   "source": []
  }
 ],
 "metadata": {
  "kernelspec": {
   "display_name": "Python 2",
   "language": "python",
   "name": "python2"
  },
  "language_info": {
   "codemirror_mode": {
    "name": "ipython",
    "version": 2
   },
   "file_extension": ".py",
   "mimetype": "text/x-python",
   "name": "python",
   "nbconvert_exporter": "python",
   "pygments_lexer": "ipython2",
   "version": "2.7.13"
  }
 },
 "nbformat": 4,
 "nbformat_minor": 2
}
