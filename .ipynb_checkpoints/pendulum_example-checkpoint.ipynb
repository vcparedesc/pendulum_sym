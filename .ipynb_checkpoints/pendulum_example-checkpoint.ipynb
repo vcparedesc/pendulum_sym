{
 "cells": [
  {
   "cell_type": "code",
   "execution_count": 1,
   "metadata": {
    "collapsed": true
   },
   "outputs": [],
   "source": [
    "# Inverted Pendulum example"
   ]
  },
  {
   "cell_type": "code",
   "execution_count": 2,
   "metadata": {},
   "outputs": [
    {
     "ename": "NameError",
     "evalue": "name 'PyroDynamics' is not defined",
     "output_type": "error",
     "traceback": [
      "\u001b[0;31m---------------------------------------------------------------------------\u001b[0m",
      "\u001b[0;31mNameError\u001b[0m                                 Traceback (most recent call last)",
      "\u001b[0;32m<ipython-input-2-b701eb2a20b5>\u001b[0m in \u001b[0;36m<module>\u001b[0;34m()\u001b[0m\n\u001b[1;32m      7\u001b[0m \u001b[0;32mfrom\u001b[0m \u001b[0mpyro_expressions\u001b[0m \u001b[0;32mimport\u001b[0m \u001b[0;34m*\u001b[0m\u001b[0;34m\u001b[0m\u001b[0m\n\u001b[1;32m      8\u001b[0m \u001b[0;32mfrom\u001b[0m \u001b[0mPyroDynamics\u001b[0m \u001b[0;32mimport\u001b[0m \u001b[0;34m*\u001b[0m\u001b[0;34m\u001b[0m\u001b[0m\n\u001b[0;32m----> 9\u001b[0;31m \u001b[0;32mfrom\u001b[0m \u001b[0mpyro_solver\u001b[0m \u001b[0;32mimport\u001b[0m \u001b[0;34m*\u001b[0m\u001b[0;34m\u001b[0m\u001b[0m\n\u001b[0m\u001b[1;32m     10\u001b[0m \u001b[0;32mfrom\u001b[0m \u001b[0mpyro_kinematics\u001b[0m \u001b[0;32mimport\u001b[0m \u001b[0;34m*\u001b[0m\u001b[0;34m\u001b[0m\u001b[0m\n\u001b[1;32m     11\u001b[0m \u001b[0;32mfrom\u001b[0m \u001b[0mpyro_animation\u001b[0m \u001b[0;32mimport\u001b[0m \u001b[0;34m*\u001b[0m\u001b[0;34m\u001b[0m\u001b[0m\n",
      "\u001b[0;32m~/Documents/Personal/bach-thesis/simulation/PyroBot/pyro_solver.py\u001b[0m in \u001b[0;36m<module>\u001b[0;34m()\u001b[0m\n\u001b[1;32m      7\u001b[0m \u001b[0;32mimport\u001b[0m \u001b[0mmatplotlib\u001b[0m\u001b[0;34m.\u001b[0m\u001b[0mpyplot\u001b[0m \u001b[0;32mas\u001b[0m \u001b[0mplt\u001b[0m\u001b[0;34m\u001b[0m\u001b[0m\n\u001b[1;32m      8\u001b[0m \u001b[0;34m\u001b[0m\u001b[0m\n\u001b[0;32m----> 9\u001b[0;31m \u001b[0mPyroBot\u001b[0m \u001b[0;34m=\u001b[0m \u001b[0mPyroDynamics\u001b[0m\u001b[0;34m(\u001b[0m\u001b[0;34m)\u001b[0m\u001b[0;34m\u001b[0m\u001b[0m\n\u001b[0m\u001b[1;32m     10\u001b[0m \u001b[0msolutions\u001b[0m \u001b[0;34m=\u001b[0m \u001b[0;34m[\u001b[0m\u001b[0;34m]\u001b[0m\u001b[0;34m\u001b[0m\u001b[0m\n\u001b[1;32m     11\u001b[0m \u001b[0;34m\u001b[0m\u001b[0m\n",
      "\u001b[0;31mNameError\u001b[0m: name 'PyroDynamics' is not defined"
     ]
    }
   ],
   "source": [
    "from IPython.display import Image\n",
    "import sys \n",
    "import os\n",
    "sys.path.append(os.path.abspath(\"../PyroBot\"))\n",
    "from pyro_derivatives import *\n",
    "from pyro_dynamics import *\n",
    "from pyro_expressions import *\n",
    "from pyro_solver import *\n",
    "from pyro_kinematics import *\n",
    "from pyro_animation import *\n",
    "init_printing(use_unicode=True)\n",
    "#init_printing(use_latex=True)"
   ]
  },
  {
   "cell_type": "code",
   "execution_count": null,
   "metadata": {
    "collapsed": true
   },
   "outputs": [],
   "source": [
    "from sympy import *\n",
    "from sympy.physics.mechanics import *\n",
    "from sympy import symbols, atan, Matrix, solve\n",
    "from IPython.display import Image, HTML, display_pretty, display_html, display_jpeg, display_png, display_json, display_latex, display_svg"
   ]
  },
  {
   "cell_type": "markdown",
   "metadata": {},
   "source": [
    "## Model\n",
    "![Pendulum Model](pendulum.png)"
   ]
  },
  {
   "cell_type": "code",
   "execution_count": null,
   "metadata": {
    "collapsed": true
   },
   "outputs": [],
   "source": [
    "# Declaring variables\n",
    "q1, q2 = dynamicsymbols('q1:3')\n",
    "t = symbols('t')\n",
    "M,l,m,I,g = symbols('M, l, m, I, g')\n",
    "parameters = [M,l,m,I,g]\n",
    "values = [1,0.5,0.4,0.0083,9.81]\n",
    "# Renaming variables as generalized coordinates\n",
    "x = q1\n",
    "xd = diff(q1,t)\n",
    "theta = q2\n",
    "thetad = diff(q2,t)\n",
    "# Defining the elements of the lagrangian\n",
    "# L = T - V\n",
    "T = 0.5 * M * xd**2 + 0.5 * I * thetad**2 + 0.5*m*((xd+l*thetad*cos(theta))**2 + (l * thetad* sin(theta))**2)\n",
    "V =  -m * g * l * cos(theta)\n",
    "L = T - V\n",
    "# Applying the lagrange equation to get EOM\n",
    "Q = Matrix([q1, q2])\n",
    "EoM = lagrange_method(L,Q)"
   ]
  },
  {
   "cell_type": "code",
   "execution_count": null,
   "metadata": {},
   "outputs": [],
   "source": [
    "Mat_M = get_matrix_M(EoM, Q)\n",
    "fx,gx = get_fx_gx(EoM,Q)"
   ]
  },
  {
   "cell_type": "code",
   "execution_count": null,
   "metadata": {
    "collapsed": true
   },
   "outputs": [],
   "source": [
    "# Replacing tangent bundle (TQ) with state (X) \n",
    "x1,x2,xd1,xd2 = symbols('x1,x2,xd1,xd2') # q1,q2,q1d,q2d\n",
    "X = Matrix([x1,x2,xd1,xd2])\n",
    "TQ = Matrix([q1,q2,diff(q1),diff(q2)])\n",
    "f_x = change_vars(fx, TQ, X)\n",
    "g_x = change_vars(gx, TQ, X)\n"
   ]
  },
  {
   "cell_type": "code",
   "execution_count": null,
   "metadata": {},
   "outputs": [],
   "source": [
    "print_python_dynamics(f_x, g_x, X,parameters,values)\n",
    "print_python_matrices([f_x, g_x], [\"fx\", \"gx\"], X, parameters, values, \"PyroTest.py\")"
   ]
  },
  {
   "cell_type": "markdown",
   "metadata": {},
   "source": [
    "## Solving the differential equation generated\n",
    "Make sure that if you have a controller you write it on the class member \"u_control\"."
   ]
  },
  {
   "cell_type": "code",
   "execution_count": null,
   "metadata": {},
   "outputs": [],
   "source": [
    "X0 = [0, np.pi+0.1, 0, 0]\n",
    "t = np.linspace(0,5,1001)\n",
    "sol=simulate(X0, t)"
   ]
  },
  {
   "cell_type": "markdown",
   "metadata": {},
   "source": [
    "## Solving kinematics\n",
    "Sometimes kinematics should be solved first, for example, in robotic manipulators. However, due to the simplicity of this model, this can be achieved after the dynamics has been solved. This section will be used for animation purposes. (In classical robotics, the kinematic equations help to derive the dynamics)\n",
    "\n",
    "<img src=\"pendulumFrame.png\" alt=\"Drawing\" style=\"width: 400px;\"/>"
   ]
  },
  {
   "cell_type": "code",
   "execution_count": null,
   "metadata": {
    "collapsed": true
   },
   "outputs": [],
   "source": [
    "# Assumming the base coordinate is located at x = 0, with z pointing upward and x aligned with\n",
    "# the movement of the cart\n",
    "HCart = HomT('x', x1) # Coordinate frame wrt cart\n",
    "HPend = HomT('x', x1) * HomR('z', -pi/2) * HomR('z', x2) # Coordinate frame wrt pendulum"
   ]
  },
  {
   "cell_type": "code",
   "execution_count": null,
   "metadata": {
    "collapsed": true
   },
   "outputs": [],
   "source": [
    "# Calculating Important points for animation\n",
    "# Assuming cart length is 0.1m\n",
    "# Here there are two forms to get position from the homogeneous position vector\n",
    "PCart1 = (HCart * PosH('x', -0.05))[0:3,0]\n",
    "PCartCOM = (HCart * PosH('x', 0))[0:3,0]\n",
    "PCart2 = (HCart * PosH('x', 0.05))[0:3,0]\n",
    "\n",
    "PPend1 = Pos(0,HPend * PosH('x', 0))\n",
    "PPendCOM = Pos(0,HPend * PosH('x',l))\n",
    "PPend2 = Pos(0,HPend * PosH('x',2 * l))\n",
    "\n",
    "animationMatrix = Matrix([PCart1.T, PCart2.T, PCartCOM.T, PPend1.T, PPendCOM.T, PPend2.T])\n",
    "idCOM = [2, 4]\n",
    "#print_python_kinematics(animationMatrix, X, parameters, values)"
   ]
  },
  {
   "cell_type": "code",
   "execution_count": null,
   "metadata": {},
   "outputs": [],
   "source": [
    "fireAnimation(animationMatrix, idCOM, X, sol, parameters, values, 0.005)"
   ]
  },
  {
   "cell_type": "code",
   "execution_count": null,
   "metadata": {
    "collapsed": true
   },
   "outputs": [],
   "source": []
  }
 ],
 "metadata": {
  "kernelspec": {
   "display_name": "Python 3",
   "language": "python",
   "name": "python3"
  },
  "language_info": {
   "codemirror_mode": {
    "name": "ipython",
    "version": 3
   },
   "file_extension": ".py",
   "mimetype": "text/x-python",
   "name": "python",
   "nbconvert_exporter": "python",
   "pygments_lexer": "ipython3",
   "version": "3.6.3"
  }
 },
 "nbformat": 4,
 "nbformat_minor": 2
}
